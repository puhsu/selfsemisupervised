{
 "cells": [
  {
   "cell_type": "markdown",
   "metadata": {},
   "source": [
    "# Supervised baselines\n",
    "\n",
    "Notebook with strong supervised learning baseline on cifar-10"
   ]
  },
  {
   "cell_type": "code",
   "execution_count": null,
   "metadata": {},
   "outputs": [],
   "source": [
    "%reload_ext autoreload\n",
    "%autoreload 2"
   ]
  },
  {
   "cell_type": "markdown",
   "metadata": {},
   "source": [
    "You probably need to install dependencies"
   ]
  },
  {
   "cell_type": "code",
   "execution_count": null,
   "metadata": {},
   "outputs": [
    {
     "name": "stdout",
     "output_type": "stream",
     "text": [
      "Cloning into 'sssupervised'...\n",
      "remote: Enumerating objects: 156, done.\u001b[K\n",
      "remote: Counting objects:   0% (1/156)\u001b[K\r",
      "remote: Counting objects:   1% (2/156)\u001b[K\r",
      "remote: Counting objects:   2% (4/156)\u001b[K\r",
      "remote: Counting objects:   3% (5/156)\u001b[K\r",
      "remote: Counting objects:   4% (7/156)\u001b[K\r",
      "remote: Counting objects:   5% (8/156)\u001b[K\r",
      "remote: Counting objects:   6% (10/156)\u001b[K\r",
      "remote: Counting objects:   7% (11/156)\u001b[K\r",
      "remote: Counting objects:   8% (13/156)\u001b[K\r",
      "remote: Counting objects:   9% (15/156)\u001b[K\r",
      "remote: Counting objects:  10% (16/156)\u001b[K\r",
      "remote: Counting objects:  11% (18/156)\u001b[K\r",
      "remote: Counting objects:  12% (19/156)\u001b[K\r",
      "remote: Counting objects:  13% (21/156)\u001b[K\r",
      "remote: Counting objects:  14% (22/156)\u001b[K\r",
      "remote: Counting objects:  15% (24/156)\u001b[K\r",
      "remote: Counting objects:  16% (25/156)\u001b[K\r",
      "remote: Counting objects:  17% (27/156)\u001b[K\r",
      "remote: Counting objects:  18% (29/156)\u001b[K\r",
      "remote: Counting objects:  19% (30/156)\u001b[K\r",
      "remote: Counting objects:  20% (32/156)\u001b[K\r",
      "remote: Counting objects:  21% (33/156)\u001b[K\r",
      "remote: Counting objects:  22% (35/156)\u001b[K\r",
      "remote: Counting objects:  23% (36/156)\u001b[K\r",
      "remote: Counting objects:  24% (38/156)\u001b[K\r",
      "remote: Counting objects:  25% (39/156)\u001b[K\r",
      "remote: Counting objects:  26% (41/156)\u001b[K\r",
      "remote: Counting objects:  27% (43/156)\u001b[K\r",
      "remote: Counting objects:  28% (44/156)\u001b[K\r",
      "remote: Counting objects:  29% (46/156)\u001b[K\r",
      "remote: Counting objects:  30% (47/156)\u001b[K\r",
      "remote: Counting objects:  31% (49/156)\u001b[K\r",
      "remote: Counting objects:  32% (50/156)\u001b[K\r",
      "remote: Counting objects:  33% (52/156)\u001b[K\r",
      "remote: Counting objects:  34% (54/156)\u001b[K\r",
      "remote: Counting objects:  35% (55/156)\u001b[K\r",
      "remote: Counting objects:  36% (57/156)\u001b[K\r",
      "remote: Counting objects:  37% (58/156)\u001b[K\r",
      "remote: Counting objects:  38% (60/156)\u001b[K\r",
      "remote: Counting objects:  39% (61/156)\u001b[K\r",
      "remote: Counting objects:  40% (63/156)\u001b[K\r",
      "remote: Counting objects:  41% (64/156)\u001b[K\r",
      "remote: Counting objects:  42% (66/156)\u001b[K\r",
      "remote: Counting objects:  43% (68/156)\u001b[K\r",
      "remote: Counting objects:  44% (69/156)\u001b[K\r",
      "remote: Counting objects:  45% (71/156)\u001b[K\r",
      "remote: Counting objects:  46% (72/156)\u001b[K\r",
      "remote: Counting objects:  47% (74/156)\u001b[K\r",
      "remote: Counting objects:  48% (75/156)\u001b[K\r",
      "remote: Counting objects:  49% (77/156)\u001b[K\r",
      "remote: Counting objects:  50% (78/156)\u001b[K\r",
      "remote: Counting objects:  51% (80/156)\u001b[K\r",
      "remote: Counting objects:  52% (82/156)\u001b[K\r",
      "remote: Counting objects:  53% (83/156)\u001b[K\r",
      "remote: Counting objects:  54% (85/156)\u001b[K\r",
      "remote: Counting objects:  55% (86/156)\u001b[K\r",
      "remote: Counting objects:  56% (88/156)\u001b[K\r",
      "remote: Counting objects:  57% (89/156)\u001b[K\r",
      "remote: Counting objects:  58% (91/156)\u001b[K\r",
      "remote: Counting objects:  59% (93/156)\u001b[K\r",
      "remote: Counting objects:  60% (94/156)\u001b[K\r",
      "remote: Counting objects:  61% (96/156)\u001b[K\r",
      "remote: Counting objects:  62% (97/156)\u001b[K\r",
      "remote: Counting objects:  63% (99/156)\u001b[K\r",
      "remote: Counting objects:  64% (100/156)\u001b[K\r",
      "remote: Counting objects:  65% (102/156)\u001b[K\r",
      "remote: Counting objects:  66% (103/156)\u001b[K\r",
      "remote: Counting objects:  67% (105/156)\u001b[K\r",
      "remote: Counting objects:  68% (107/156)\u001b[K\r",
      "remote: Counting objects:  69% (108/156)\u001b[K\r",
      "remote: Counting objects:  70% (110/156)\u001b[K\r",
      "remote: Counting objects:  71% (111/156)\u001b[K\r",
      "remote: Counting objects:  72% (113/156)\u001b[K\r",
      "remote: Counting objects:  73% (114/156)\u001b[K\r",
      "remote: Counting objects:  74% (116/156)\u001b[K\r",
      "remote: Counting objects:  75% (117/156)\u001b[K\r",
      "remote: Counting objects:  76% (119/156)\u001b[K\r",
      "remote: Counting objects:  77% (121/156)\u001b[K\r",
      "remote: Counting objects:  78% (122/156)\u001b[K\r",
      "remote: Counting objects:  79% (124/156)\u001b[K\r",
      "remote: Counting objects:  80% (125/156)\u001b[K\r",
      "remote: Counting objects:  81% (127/156)\u001b[K\r",
      "remote: Counting objects:  82% (128/156)\u001b[K\r",
      "remote: Counting objects:  83% (130/156)\u001b[K\r",
      "remote: Counting objects:  84% (132/156)\u001b[K\r",
      "remote: Counting objects:  85% (133/156)\u001b[K\r",
      "remote: Counting objects:  86% (135/156)\u001b[K\r",
      "remote: Counting objects:  87% (136/156)\u001b[K\r",
      "remote: Counting objects:  88% (138/156)\u001b[K\r",
      "remote: Counting objects:  89% (139/156)\u001b[K\r",
      "remote: Counting objects:  90% (141/156)\u001b[K\r",
      "remote: Counting objects:  91% (142/156)\u001b[K\r",
      "remote: Counting objects:  92% (144/156)\u001b[K\r",
      "remote: Counting objects:  93% (146/156)\u001b[K\r",
      "remote: Counting objects:  94% (147/156)\u001b[K\r",
      "remote: Counting objects:  95% (149/156)\u001b[K\r",
      "remote: Counting objects:  96% (150/156)\u001b[K\r",
      "remote: Counting objects:  97% (152/156)\u001b[K\r",
      "remote: Counting objects:  98% (153/156)\u001b[K\r",
      "remote: Counting objects:  99% (155/156)\u001b[K\r",
      "remote: Counting objects: 100% (156/156)\u001b[K\r",
      "remote: Counting objects: 100% (156/156), done.\u001b[K\n",
      "remote: Compressing objects: 100% (126/126), done.\u001b[K\n",
      "remote: Total 156 (delta 26), reused 146 (delta 19), pack-reused 0\u001b[K\n",
      "Receiving objects: 100% (156/156), 1.34 MiB | 31.08 MiB/s, done.\n",
      "Resolving deltas: 100% (26/26), done.\n",
      "\u001b[K     |████████████████████████████████| 184kB 18.0MB/s \n",
      "\u001b[?25h"
     ]
    }
   ],
   "source": [
    "# All things needed\n",
    "\n",
    "!git clone https://github.com/puhsu/sssupervised\n",
    "!pip install -q fastai2\n",
    "!pip install -qe sssupervised"
   ]
  },
  {
   "cell_type": "markdown",
   "metadata": {},
   "source": [
    "After running cell above you should restart your kernel"
   ]
  },
  {
   "cell_type": "code",
   "execution_count": null,
   "metadata": {},
   "outputs": [],
   "source": [
    "from sssupervised.cifar_utils import CifarFactory\n",
    "from sssupervised.randaugment import RandAugment\n",
    "\n",
    "from fastai2.data.transforms import parent_label, Categorize\n",
    "\n",
    "from fastai2.optimizer import ranger, Adam\n",
    "\n",
    "from fastai2.layers import LabelSmoothingCrossEntropy\n",
    "from fastai2.metrics import error_rate\n",
    "\n",
    "from fastai2.callback.all import *\n",
    "from fastai2.vision.all import *"
   ]
  },
  {
   "cell_type": "markdown",
   "metadata": {},
   "source": [
    "Baseline uses wideresnet-28-2 model with randaugment augmentation policy. It is optiimzed with RAadam with lookahead with one-cycle learning rate and momentum schedules for 200 epochs (we count epochs in number of steps on standard cifar, so we set 4000 epochs in our case, because we only have $2400$ training examples ($50000/2400 \\approx 20$)"
   ]
  },
  {
   "cell_type": "code",
   "execution_count": null,
   "metadata": {},
   "outputs": [],
   "source": [
    "cifar = untar_data(URLs.CIFAR)\n",
    "files, (train, test, unsup) = CifarFactory(n_same_cls=3, seed=42, n_labeled=400).splits_from_path(cifar)\n",
    "\n",
    "sup_ds = Datasets(files, [[PILImage.create, RandAugment, ToTensor], [parent_label, Categorize]], splits=(train, test))\n",
    "sup_dl = sup_ds.dataloaders(after_batch=[IntToFloatTensor, Normalize.from_stats(*cifar_stats)])"
   ]
  },
  {
   "cell_type": "code",
   "execution_count": null,
   "metadata": {},
   "outputs": [
    {
     "data": {
      "image/png": "[encoded data removed]",
      "text/plain": [
       "<Figure size 648x648 with 9 Axes>"
      ]
     },
     "metadata": {
      "needs_background": "light"
     },
     "output_type": "display_data"
    }
   ],
   "source": [
    "sup_dl.train.show_batch(max_n=9)"
   ]
  },
  {
   "cell_type": "code",
   "execution_count": null,
   "metadata": {},
   "outputs": [],
   "source": [
    "# https://github.com/uoguelph-mlrg/Cutout\n",
    "\n",
    "import math\n",
    "import torch\n",
    "import torch.nn as nn\n",
    "import torch.nn.functional as F\n",
    "\n",
    "\n",
    "class BasicBlock(nn.Module):\n",
    "    def __init__(self, in_planes, out_planes, stride, dropRate=0.0):\n",
    "        super().__init__()\n",
    "        self.bn1 = nn.BatchNorm2d(in_planes)\n",
    "        self.relu1 = nn.ReLU(inplace=True)\n",
    "        self.conv1 = nn.Conv2d(in_planes, out_planes, kernel_size=3, stride=stride,\n",
    "                               padding=1, bias=False)\n",
    "        self.bn2 = nn.BatchNorm2d(out_planes)\n",
    "        self.relu2 = nn.ReLU(inplace=True)\n",
    "        self.conv2 = nn.Conv2d(out_planes, out_planes, kernel_size=3, stride=1,\n",
    "                               padding=1, bias=False)\n",
    "        self.droprate = dropRate\n",
    "        self.equalInOut = (in_planes == out_planes)\n",
    "        self.convShortcut = (not self.equalInOut) and nn.Conv2d(in_planes, out_planes, kernel_size=1, stride=stride,\n",
    "                               padding=0, bias=False) or None\n",
    "\n",
    "    def forward(self, x):\n",
    "        if not self.equalInOut: x   = self.relu1(self.bn1(x))\n",
    "        else:                   out = self.relu1(self.bn1(x))\n",
    "        out = self.relu2(self.bn2(self.conv1(out if self.equalInOut else x)))\n",
    "        if self.droprate > 0:\n",
    "            out = F.dropout(out, p=self.droprate, training=self.training)\n",
    "        out = self.conv2(out)\n",
    "        return torch.add(x if self.equalInOut else self.convShortcut(x), out)\n",
    "\n",
    "class NetworkBlock(nn.Module):\n",
    "    def __init__(self, nb_layers, in_planes, out_planes, block, stride, dropRate=0.0):\n",
    "        super().__init__()\n",
    "        self.layer = self._make_layer(block, in_planes, out_planes, nb_layers, stride, dropRate)\n",
    "    def _make_layer(self, block, in_planes, out_planes, nb_layers, stride, dropRate):\n",
    "        layers = []\n",
    "        for i in range(nb_layers):\n",
    "            layers.append(block(i == 0 and in_planes or out_planes, out_planes, i == 0 and stride or 1, dropRate))\n",
    "        return nn.Sequential(*layers)\n",
    "    def forward(self, x): return self.layer(x)\n",
    "\n",
    "class WideResNet(nn.Module):\n",
    "    def __init__(self, depth, num_classes, widen_factor=1, dropRate=0.0):\n",
    "        super().__init__()\n",
    "        nChannels = [16, 16*widen_factor, 32*widen_factor, 64*widen_factor]\n",
    "        assert((depth - 4) % 6 == 0)\n",
    "        n = (depth - 4) // 6\n",
    "        block = BasicBlock\n",
    "        # 1st conv before any network block\n",
    "        self.conv1 = nn.Conv2d(3, nChannels[0], kernel_size=3, stride=1,\n",
    "                               padding=1, bias=False)\n",
    "        self.block1 = NetworkBlock(n, nChannels[0], nChannels[1], block, 1, dropRate)\n",
    "        self.block2 = NetworkBlock(n, nChannels[1], nChannels[2], block, 2, dropRate)\n",
    "        self.block3 = NetworkBlock(n, nChannels[2], nChannels[3], block, 2, dropRate)\n",
    "        self.bn1 = nn.BatchNorm2d(nChannels[3])\n",
    "        self.relu = nn.ReLU(inplace=True)\n",
    "        self.fc = nn.Linear(nChannels[3], num_classes)\n",
    "        self.nChannels = nChannels[3]\n",
    "\n",
    "        for m in self.modules():\n",
    "            if isinstance(m, nn.Conv2d):\n",
    "                n = m.kernel_size[0] * m.kernel_size[1] * m.out_channels\n",
    "                m.weight.data.normal_(0, math.sqrt(2. / n))\n",
    "            elif isinstance(m, nn.BatchNorm2d):\n",
    "                m.weight.data.fill_(1)\n",
    "                m.bias.data.zero_()\n",
    "            elif isinstance(m, nn.Linear): m.bias.data.zero_()\n",
    "    def forward(self, x):\n",
    "        out = self.conv1(x)\n",
    "        out = self.block1(out)\n",
    "        out = self.block2(out)\n",
    "        out = self.block3(out)\n",
    "        out = self.relu(self.bn1(out))\n",
    "        out = F.adaptive_avg_pool2d(out, 1)\n",
    "        out = out.view(-1, self.nChannels)\n",
    "        return self.fc(out)\n",
    "\n",
    "def wrn_22(): return WideResNet(depth=22, num_classes=10, widen_factor=6, dropRate=0.)\n",
    "def wrn_22_k8(): return WideResNet(depth=22, num_classes=10, widen_factor=8, dropRate=0.)\n",
    "def wrn_22_k10(): return WideResNet(depth=22, num_classes=10, widen_factor=10, dropRate=0.)\n",
    "def wrn_22_k8_p2(): return WideResNet(depth=22, num_classes=10, widen_factor=8, dropRate=0.2)\n",
    "def wrn_28(): return WideResNet(depth=28, num_classes=10, widen_factor=6, dropRate=0.)\n",
    "def wrn_28_k8(): return WideResNet(depth=28, num_classes=10, widen_factor=8, dropRate=0.)\n",
    "def wrn_28_k8_p2(): return WideResNet(depth=28, num_classes=10, widen_factor=8, dropRate=0.2)\n",
    "def wrn_28_p2(): return WideResNet(depth=28, num_classes=10, widen_factor=6, dropRate=0.2)"
   ]
  },
  {
   "cell_type": "markdown",
   "metadata": {},
   "source": [
    "We override default callbacks (the best way I found, to pass extra arguments to callbacks)"
   ]
  },
  {
   "cell_type": "code",
   "execution_count": null,
   "metadata": {},
   "outputs": [],
   "source": [
    "defaults.callbacks = [\n",
    "    TrainEvalCallback(),\n",
    "    Recorder(train_metrics=True),\n",
    "    ProgressCallback(),\n",
    "]"
   ]
  },
  {
   "cell_type": "code",
   "execution_count": null,
   "metadata": {},
   "outputs": [],
   "source": [
    "class SkipSomeValidations(Callback):\n",
    "    \"\"\"Perform validation regularly, but not every epoch \n",
    "    (usefull for small datasets, where training is quick)\"\"\"\n",
    "    def __init__(self, n_epochs=20): self.n_epochs=n_epochs\n",
    "    def begin_validate(self):\n",
    "        if self.train_iter % self.n_epochs != 0:\n",
    "            raise CancelValidException()"
   ]
  },
  {
   "cell_type": "code",
   "execution_count": null,
   "metadata": {},
   "outputs": [],
   "source": [
    "learner = Learner(\n",
    "    sup_dl, \n",
    "    wrn_28(),\n",
    "    CrossEntropyLossFlat(),\n",
    "    opt_func=ranger, \n",
    "    wd=1e-2, \n",
    "    metrics=error_rate,\n",
    "    cbs=[ShowGraphCallback(), SkipSomeValidations(n_epochs=20)]\n",
    ")"
   ]
  }
 ],
 "metadata": {
  "kernelspec": {
   "display_name": "Python 3",
   "language": "python",
   "name": "python3"
  }
 },
 "nbformat": 4,
 "nbformat_minor": 1
}
